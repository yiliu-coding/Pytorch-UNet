{
 "cells": [
  {
   "cell_type": "code",
   "execution_count": 1,
   "metadata": {},
   "outputs": [],
   "source": [
    "import argparse\n",
    "import logging\n",
    "import os\n",
    "import sys\n",
    "\n",
    "\n",
    "import numpy as np\n",
    "import torch\n",
    "import torch.nn.functional as F\n",
    "from PIL import Image\n",
    "from torchvision import transforms\n",
    "\n",
    "from unet import UNet\n",
    "from utils.data_vis import plot_img_and_mask\n",
    "from utils.dataset import BasicDataset"
   ]
  },
  {
   "cell_type": "code",
   "execution_count": 2,
   "metadata": {},
   "outputs": [],
   "source": [
    "def predict_img(net,\n",
    "                full_img,\n",
    "                device,\n",
    "                scale_factor=1,\n",
    "                out_threshold=0.5):\n",
    "    net.eval()\n",
    "\n",
    "    img = torch.from_numpy(BasicDataset.preprocess(full_img, scale_factor))\n",
    "\n",
    "    img = img.unsqueeze(0)\n",
    "    img = img.to(device=device, dtype=torch.float32)\n",
    "\n",
    "    with torch.no_grad():\n",
    "        output = net(img)\n",
    "\n",
    "        if net.n_classes > 1:\n",
    "            probs = F.softmax(output, dim=1)\n",
    "        else:\n",
    "            probs = torch.sigmoid(output)\n",
    "\n",
    "        probs = probs.squeeze(0)\n",
    "\n",
    "        tf = transforms.Compose(\n",
    "            [\n",
    "                transforms.ToPILImage(),\n",
    "                transforms.Resize(full_img.size[1]),\n",
    "                transforms.ToTensor()\n",
    "            ]\n",
    "        )\n",
    "\n",
    "        probs = tf(probs.cpu())\n",
    "        full_mask = probs.squeeze().cpu().numpy()\n",
    "\n",
    "    return full_mask > out_threshold"
   ]
  },
  {
   "cell_type": "code",
   "execution_count": 3,
   "metadata": {},
   "outputs": [],
   "source": [
    "def get_args():\n",
    "    parser = argparse.ArgumentParser(description='Predict masks from input images',\n",
    "                                     formatter_class=argparse.ArgumentDefaultsHelpFormatter)\n",
    "    parser.add_argument('--model', '-m', default='MODEL.pth',\n",
    "                        metavar='FILE',\n",
    "                        help=\"Specify the file in which the model is stored\")\n",
    "    parser.add_argument('--input', '-i', metavar='INPUT', nargs='+',\n",
    "                        help='filenames of input images', required=True)\n",
    "\n",
    "    parser.add_argument('--output', '-o', metavar='INPUT', nargs='+',\n",
    "                        help='Filenames of ouput images')\n",
    "    parser.add_argument('--viz', '-v', action='store_true',\n",
    "                        help=\"Visualize the images as they are processed\",\n",
    "                        default=False)\n",
    "    parser.add_argument('--no-save', '-n', action='store_true',\n",
    "                        help=\"Do not save the output masks\",\n",
    "                        default=False)\n",
    "    parser.add_argument('--mask-threshold', '-t', type=float,\n",
    "                        help=\"Minimum probability value to consider a mask pixel white\",\n",
    "                        default=0.5)\n",
    "    parser.add_argument('--scale', '-s', type=float,\n",
    "                        help=\"Scale factor for the input images\",\n",
    "                        default=0.5)\n",
    "    sys.argv[1:] = ['--model', 'checkpoints/CP_epoch50.pth',\n",
    "                    '--input', 'data/train_images_256/041869.000003.tif',\n",
    "                    '--output', '041869.000003_pre.tif',\n",
    "                    '--viz', 'True',\n",
    "                    '--no-save', 'False',\n",
    "                    '--mask-threshold', '0.5',\n",
    "                    '--scale', '0.5']\n",
    "\n",
    "    return parser.parse_args()"
   ]
  },
  {
   "cell_type": "code",
   "execution_count": 12,
   "metadata": {},
   "outputs": [
    {
     "ename": "SystemExit",
     "evalue": "2",
     "output_type": "error",
     "traceback": [
      "\u001b[0;31m---------------------------------------------------------------------------\u001b[0m",
      "\u001b[0;31mSystemExit\u001b[0m                                Traceback (most recent call last)",
      "\u001b[0;32m<ipython-input-8-f6265eb34e25>\u001b[0m in \u001b[0;36m<module>\u001b[0;34m\u001b[0m\n\u001b[1;32m     38\u001b[0m \u001b[0;31m#                 '--scale', '0.5']\u001b[0m\u001b[0;34m\u001b[0m\u001b[0;34m\u001b[0m\u001b[0;34m\u001b[0m\u001b[0m\n\u001b[1;32m     39\u001b[0m \u001b[0;34m\u001b[0m\u001b[0m\n\u001b[0;32m---> 40\u001b[0;31m \u001b[0mparser\u001b[0m\u001b[0;34m.\u001b[0m\u001b[0mparse_args\u001b[0m\u001b[0;34m(\u001b[0m\u001b[0;34m)\u001b[0m\u001b[0;34m\u001b[0m\u001b[0;34m\u001b[0m\u001b[0m\n\u001b[0m",
      "\u001b[0;32m/usr/lib/python3.6/argparse.py\u001b[0m in \u001b[0;36mparse_args\u001b[0;34m(self, args, namespace)\u001b[0m\n\u001b[1;32m   1744\u001b[0m         \u001b[0;32mif\u001b[0m \u001b[0margv\u001b[0m\u001b[0;34m:\u001b[0m\u001b[0;34m\u001b[0m\u001b[0;34m\u001b[0m\u001b[0m\n\u001b[1;32m   1745\u001b[0m             \u001b[0mmsg\u001b[0m \u001b[0;34m=\u001b[0m \u001b[0m_\u001b[0m\u001b[0;34m(\u001b[0m\u001b[0;34m'unrecognized arguments: %s'\u001b[0m\u001b[0;34m)\u001b[0m\u001b[0;34m\u001b[0m\u001b[0;34m\u001b[0m\u001b[0m\n\u001b[0;32m-> 1746\u001b[0;31m             \u001b[0mself\u001b[0m\u001b[0;34m.\u001b[0m\u001b[0merror\u001b[0m\u001b[0;34m(\u001b[0m\u001b[0mmsg\u001b[0m \u001b[0;34m%\u001b[0m \u001b[0;34m' '\u001b[0m\u001b[0;34m.\u001b[0m\u001b[0mjoin\u001b[0m\u001b[0;34m(\u001b[0m\u001b[0margv\u001b[0m\u001b[0;34m)\u001b[0m\u001b[0;34m)\u001b[0m\u001b[0;34m\u001b[0m\u001b[0;34m\u001b[0m\u001b[0m\n\u001b[0m\u001b[1;32m   1747\u001b[0m         \u001b[0;32mreturn\u001b[0m \u001b[0margs\u001b[0m\u001b[0;34m\u001b[0m\u001b[0;34m\u001b[0m\u001b[0m\n\u001b[1;32m   1748\u001b[0m \u001b[0;34m\u001b[0m\u001b[0m\n",
      "\u001b[0;32m/usr/lib/python3.6/argparse.py\u001b[0m in \u001b[0;36merror\u001b[0;34m(self, message)\u001b[0m\n\u001b[1;32m   2400\u001b[0m         \u001b[0mself\u001b[0m\u001b[0;34m.\u001b[0m\u001b[0mprint_usage\u001b[0m\u001b[0;34m(\u001b[0m\u001b[0m_sys\u001b[0m\u001b[0;34m.\u001b[0m\u001b[0mstderr\u001b[0m\u001b[0;34m)\u001b[0m\u001b[0;34m\u001b[0m\u001b[0;34m\u001b[0m\u001b[0m\n\u001b[1;32m   2401\u001b[0m         \u001b[0margs\u001b[0m \u001b[0;34m=\u001b[0m \u001b[0;34m{\u001b[0m\u001b[0;34m'prog'\u001b[0m\u001b[0;34m:\u001b[0m \u001b[0mself\u001b[0m\u001b[0;34m.\u001b[0m\u001b[0mprog\u001b[0m\u001b[0;34m,\u001b[0m \u001b[0;34m'message'\u001b[0m\u001b[0;34m:\u001b[0m \u001b[0mmessage\u001b[0m\u001b[0;34m}\u001b[0m\u001b[0;34m\u001b[0m\u001b[0;34m\u001b[0m\u001b[0m\n\u001b[0;32m-> 2402\u001b[0;31m         \u001b[0mself\u001b[0m\u001b[0;34m.\u001b[0m\u001b[0mexit\u001b[0m\u001b[0;34m(\u001b[0m\u001b[0;36m2\u001b[0m\u001b[0;34m,\u001b[0m \u001b[0m_\u001b[0m\u001b[0;34m(\u001b[0m\u001b[0;34m'%(prog)s: error: %(message)s\\n'\u001b[0m\u001b[0;34m)\u001b[0m \u001b[0;34m%\u001b[0m \u001b[0margs\u001b[0m\u001b[0;34m)\u001b[0m\u001b[0;34m\u001b[0m\u001b[0;34m\u001b[0m\u001b[0m\n\u001b[0m",
      "\u001b[0;32m/usr/lib/python3.6/argparse.py\u001b[0m in \u001b[0;36mexit\u001b[0;34m(self, status, message)\u001b[0m\n\u001b[1;32m   2387\u001b[0m         \u001b[0;32mif\u001b[0m \u001b[0mmessage\u001b[0m\u001b[0;34m:\u001b[0m\u001b[0;34m\u001b[0m\u001b[0;34m\u001b[0m\u001b[0m\n\u001b[1;32m   2388\u001b[0m             \u001b[0mself\u001b[0m\u001b[0;34m.\u001b[0m\u001b[0m_print_message\u001b[0m\u001b[0;34m(\u001b[0m\u001b[0mmessage\u001b[0m\u001b[0;34m,\u001b[0m \u001b[0m_sys\u001b[0m\u001b[0;34m.\u001b[0m\u001b[0mstderr\u001b[0m\u001b[0;34m)\u001b[0m\u001b[0;34m\u001b[0m\u001b[0;34m\u001b[0m\u001b[0m\n\u001b[0;32m-> 2389\u001b[0;31m         \u001b[0m_sys\u001b[0m\u001b[0;34m.\u001b[0m\u001b[0mexit\u001b[0m\u001b[0;34m(\u001b[0m\u001b[0mstatus\u001b[0m\u001b[0;34m)\u001b[0m\u001b[0;34m\u001b[0m\u001b[0;34m\u001b[0m\u001b[0m\n\u001b[0m\u001b[1;32m   2390\u001b[0m \u001b[0;34m\u001b[0m\u001b[0m\n\u001b[1;32m   2391\u001b[0m     \u001b[0;32mdef\u001b[0m \u001b[0merror\u001b[0m\u001b[0;34m(\u001b[0m\u001b[0mself\u001b[0m\u001b[0;34m,\u001b[0m \u001b[0mmessage\u001b[0m\u001b[0;34m)\u001b[0m\u001b[0;34m:\u001b[0m\u001b[0;34m\u001b[0m\u001b[0;34m\u001b[0m\u001b[0m\n",
      "\u001b[0;31mSystemExit\u001b[0m: 2"
     ]
    },
    {
     "data": {
      "text/plain": [
       "Namespace(input=['data/train_images_256/041869.000003.tif'], mask_threshold=0.5, model='checkpoints/CP_epoch50.pth', no_save=False, output=None, scale=0.5, viz=False)"
      ]
     },
     "execution_count": 12,
     "metadata": {},
     "output_type": "execute_result"
    }
   ],
   "source": [
    "%tb\n",
    "parser = argparse.ArgumentParser(description='Predict masks from input images',\n",
    "                                     formatter_class=argparse.ArgumentDefaultsHelpFormatter)\n",
    "parser.add_argument('--model', '-m', default='MODEL.pth',\n",
    "                    metavar='FILE',\n",
    "                    help=\"Specify the file in which the model is stored\")\n",
    "parser.add_argument('--input', '-i', metavar='INPUT', nargs='+',\n",
    "                    help='filenames of input images', required=True)\n",
    "\n",
    "parser.add_argument('--output', '-o', metavar='INPUT', nargs='+',\n",
    "                    help='Filenames of ouput images')\n",
    "parser.add_argument('--viz', '-v', action='store_true',\n",
    "                    help=\"Visualize the images as they are processed\",\n",
    "                    default=False)\n",
    "parser.add_argument('--no-save', '-n', action='store_true',\n",
    "                    help=\"Do not save the output masks\",\n",
    "                    default=False)\n",
    "parser.add_argument('--mask-threshold', '-t', type=float,\n",
    "                    help=\"Minimum probability value to consider a mask pixel white\",\n",
    "                    default=0.5)\n",
    "parser.add_argument('--scale', '-s', type=float,\n",
    "                    help=\"Scale factor for the input images\",\n",
    "                    default=0.5)\n",
    "\n",
    "sys.argv[1:] = ['--model', 'checkpoints/CP_epoch50.pth',\n",
    "                '--input', 'data/train_images_256/041869.000003.tif']\n",
    "\n",
    "\n",
    "# sys.argv[1:] = ['--model', 'checkpoints/CP_epoch50.pth',\n",
    "#                 '--input', 'data/train_images_256/041869.000003.tif',\n",
    "#                 '--output', '041869.000003_pre.tif',\n",
    "#                 '--viz', 'True',\n",
    "#                 '--no-save', 'False',\n",
    "#                 '--mask-threshold', '0.5',\n",
    "#                 '--scale', '0.5']\n",
    "\n",
    "parser.parse_args()"
   ]
  },
  {
   "cell_type": "code",
   "execution_count": null,
   "metadata": {},
   "outputs": [],
   "source": [
    "def get_output_filenames(args):\n",
    "    in_files = args.input\n",
    "    out_files = []\n",
    "\n",
    "    if not args.output:\n",
    "        for f in in_files:\n",
    "            pathsplit = os.path.splitext(f)\n",
    "            out_files.append(\"{}_OUT{}\".format(pathsplit[0], pathsplit[1]))\n",
    "    elif len(in_files) != len(args.output):\n",
    "        logging.error(\"Input files and output files are not of the same length\")\n",
    "        raise SystemExit()\n",
    "    else:\n",
    "        out_files = args.output\n",
    "\n",
    "    return out_files\n",
    "\n",
    "def mask_to_image(mask):\n",
    "    return Image.fromarray((mask * 255).astype(np.uint8))\n"
   ]
  },
  {
   "cell_type": "code",
   "execution_count": null,
   "metadata": {},
   "outputs": [],
   "source": [
    "%tb\n",
    "args = get_args()\n",
    "# in_files = args.input\n",
    "# out_files = get_output_filenames(args)\n",
    "\n",
    "# net = UNet(n_channels=3, n_classes=1)\n",
    "\n",
    "# logging.info(\"Loading model {}\".format(args.model))\n",
    "\n",
    "# device = torch.device('cuda' if torch.cuda.is_available() else 'cpu')\n",
    "# logging.info(f'Using device {device}')\n",
    "# net.to(device=device)\n",
    "# net.load_state_dict(torch.load(args.model, map_location=device))\n",
    "\n",
    "# logging.info(\"Model loaded !\")\n"
   ]
  },
  {
   "cell_type": "code",
   "execution_count": null,
   "metadata": {},
   "outputs": [],
   "source": []
  }
 ],
 "metadata": {
  "kernelspec": {
   "display_name": "Python 3",
   "language": "python",
   "name": "python3"
  },
  "language_info": {
   "codemirror_mode": {
    "name": "ipython",
    "version": 3
   },
   "file_extension": ".py",
   "mimetype": "text/x-python",
   "name": "python",
   "nbconvert_exporter": "python",
   "pygments_lexer": "ipython3",
   "version": "3.6.8"
  }
 },
 "nbformat": 4,
 "nbformat_minor": 2
}
